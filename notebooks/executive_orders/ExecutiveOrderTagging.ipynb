{
 "cells": [
  {
   "cell_type": "markdown",
   "metadata": {},
   "source": [
    "# Executive Order Tagging\n",
    "\n",
    "Use the clusters to figure out tags."
   ]
  },
  {
   "cell_type": "code",
   "execution_count": 1,
   "metadata": {},
   "outputs": [],
   "source": [
    "import json\n",
    "import pandas\n",
    "from typing import List\n",
    "from langchain.prompts import ChatPromptTemplate\n",
    "from langchain_google_genai import ChatGoogleGenerativeAI\n",
    "from pydantic import BaseModel, Field"
   ]
  },
  {
   "cell_type": "markdown",
   "metadata": {},
   "source": [
    "## Combine Datasets\n",
    "\n",
    "Combine some datasets so we can understand which presidents and parties are in each cluster."
   ]
  },
  {
   "cell_type": "code",
   "execution_count": 33,
   "metadata": {},
   "outputs": [],
   "source": [
    "clusters = pandas.read_csv('data/executive_orders/clusters.csv')\n",
    "clusters['name'] = clusters['path'].apply(lambda x: x.split('/')[-1].split('.')[0])\n",
    "\n",
    "sentiment = pandas.read_csv('data/executive_orders/sentiment.csv')\n",
    "presidents = pandas.read_csv('data/executive_orders/presidents.csv')\n",
    "\n",
    "# add president to the clusters\n",
    "combined = clusters.merge(sentiment, on='name')\n",
    "# join with president\n",
    "combined = combined.merge(presidents, on='president')\n",
    "\n",
    "# save\n",
    "combined.to_csv('data/executive_orders/combined.csv', index=False)"
   ]
  },
  {
   "cell_type": "code",
   "execution_count": 2,
   "metadata": {},
   "outputs": [
    {
     "data": {
      "text/html": [
       "<div>\n",
       "<style scoped>\n",
       "    .dataframe tbody tr th:only-of-type {\n",
       "        vertical-align: middle;\n",
       "    }\n",
       "\n",
       "    .dataframe tbody tr th {\n",
       "        vertical-align: top;\n",
       "    }\n",
       "\n",
       "    .dataframe thead th {\n",
       "        text-align: right;\n",
       "    }\n",
       "</style>\n",
       "<table border=\"1\" class=\"dataframe\">\n",
       "  <thead>\n",
       "    <tr style=\"text-align: right;\">\n",
       "      <th></th>\n",
       "      <th>cluster</th>\n",
       "      <th>president</th>\n",
       "      <th>party</th>\n",
       "    </tr>\n",
       "  </thead>\n",
       "  <tbody>\n",
       "    <tr>\n",
       "      <th>0</th>\n",
       "      <td>0</td>\n",
       "      <td>[Chester A. Arthur, Richard Nixon, Andrew John...</td>\n",
       "      <td>[Democratic, Republican, Whig]</td>\n",
       "    </tr>\n",
       "    <tr>\n",
       "      <th>1</th>\n",
       "      <td>1</td>\n",
       "      <td>[Richard Nixon, Rutherford B. Hayes, Harry S T...</td>\n",
       "      <td>[Democratic, Republican]</td>\n",
       "    </tr>\n",
       "    <tr>\n",
       "      <th>2</th>\n",
       "      <td>2</td>\n",
       "      <td>[Chester A. Arthur, Donald J. Trump (2nd Term)...</td>\n",
       "      <td>[Democratic, Republican]</td>\n",
       "    </tr>\n",
       "    <tr>\n",
       "      <th>3</th>\n",
       "      <td>3</td>\n",
       "      <td>[George W. Bush, Donald J. Trump (2nd Term), U...</td>\n",
       "      <td>[Democratic, Republican]</td>\n",
       "    </tr>\n",
       "    <tr>\n",
       "      <th>4</th>\n",
       "      <td>4</td>\n",
       "      <td>[Harry S Truman, George W. Bush, Gerald R. For...</td>\n",
       "      <td>[Democratic, Republican]</td>\n",
       "    </tr>\n",
       "    <tr>\n",
       "      <th>5</th>\n",
       "      <td>5</td>\n",
       "      <td>[Richard Nixon, Donald J. Trump (1st Term), An...</td>\n",
       "      <td>[Democratic, Republican]</td>\n",
       "    </tr>\n",
       "    <tr>\n",
       "      <th>6</th>\n",
       "      <td>6</td>\n",
       "      <td>[Harry S Truman, Theodore Roosevelt, Gerald R....</td>\n",
       "      <td>[Democratic, Republican]</td>\n",
       "    </tr>\n",
       "    <tr>\n",
       "      <th>7</th>\n",
       "      <td>7</td>\n",
       "      <td>[Harry S Truman, George W. Bush, Gerald R. For...</td>\n",
       "      <td>[Democratic, Republican]</td>\n",
       "    </tr>\n",
       "    <tr>\n",
       "      <th>8</th>\n",
       "      <td>8</td>\n",
       "      <td>[Harry S Truman, Chester A. Arthur, Woodrow Wi...</td>\n",
       "      <td>[Democratic, Republican]</td>\n",
       "    </tr>\n",
       "    <tr>\n",
       "      <th>9</th>\n",
       "      <td>9</td>\n",
       "      <td>[Chester A. Arthur, Richard Nixon, Andrew John...</td>\n",
       "      <td>[Whig, No Party, Democratic-Republican, Democr...</td>\n",
       "    </tr>\n",
       "    <tr>\n",
       "      <th>10</th>\n",
       "      <td>10</td>\n",
       "      <td>[Chester A. Arthur, Rutherford B. Hayes, Harry...</td>\n",
       "      <td>[Democratic, Republican]</td>\n",
       "    </tr>\n",
       "    <tr>\n",
       "      <th>11</th>\n",
       "      <td>11</td>\n",
       "      <td>[Harry S Truman, Chester A. Arthur, Theodore R...</td>\n",
       "      <td>[Democratic, Republican]</td>\n",
       "    </tr>\n",
       "    <tr>\n",
       "      <th>12</th>\n",
       "      <td>12</td>\n",
       "      <td>[Donald J. Trump (2nd Term), Richard Nixon, Do...</td>\n",
       "      <td>[Democratic, Republican]</td>\n",
       "    </tr>\n",
       "    <tr>\n",
       "      <th>13</th>\n",
       "      <td>13</td>\n",
       "      <td>[Franklin D. Roosevelt]</td>\n",
       "      <td>[Democratic]</td>\n",
       "    </tr>\n",
       "    <tr>\n",
       "      <th>14</th>\n",
       "      <td>14</td>\n",
       "      <td>[George W. Bush, Donald J. Trump (2nd Term), G...</td>\n",
       "      <td>[Democratic, Republican]</td>\n",
       "    </tr>\n",
       "  </tbody>\n",
       "</table>\n",
       "</div>"
      ],
      "text/plain": [
       "    cluster                                          president  \\\n",
       "0         0  [Chester A. Arthur, Richard Nixon, Andrew John...   \n",
       "1         1  [Richard Nixon, Rutherford B. Hayes, Harry S T...   \n",
       "2         2  [Chester A. Arthur, Donald J. Trump (2nd Term)...   \n",
       "3         3  [George W. Bush, Donald J. Trump (2nd Term), U...   \n",
       "4         4  [Harry S Truman, George W. Bush, Gerald R. For...   \n",
       "5         5  [Richard Nixon, Donald J. Trump (1st Term), An...   \n",
       "6         6  [Harry S Truman, Theodore Roosevelt, Gerald R....   \n",
       "7         7  [Harry S Truman, George W. Bush, Gerald R. For...   \n",
       "8         8  [Harry S Truman, Chester A. Arthur, Woodrow Wi...   \n",
       "9         9  [Chester A. Arthur, Richard Nixon, Andrew John...   \n",
       "10       10  [Chester A. Arthur, Rutherford B. Hayes, Harry...   \n",
       "11       11  [Harry S Truman, Chester A. Arthur, Theodore R...   \n",
       "12       12  [Donald J. Trump (2nd Term), Richard Nixon, Do...   \n",
       "13       13                            [Franklin D. Roosevelt]   \n",
       "14       14  [George W. Bush, Donald J. Trump (2nd Term), G...   \n",
       "\n",
       "                                                party  \n",
       "0                      [Democratic, Republican, Whig]  \n",
       "1                            [Democratic, Republican]  \n",
       "2                            [Democratic, Republican]  \n",
       "3                            [Democratic, Republican]  \n",
       "4                            [Democratic, Republican]  \n",
       "5                            [Democratic, Republican]  \n",
       "6                            [Democratic, Republican]  \n",
       "7                            [Democratic, Republican]  \n",
       "8                            [Democratic, Republican]  \n",
       "9   [Whig, No Party, Democratic-Republican, Democr...  \n",
       "10                           [Democratic, Republican]  \n",
       "11                           [Democratic, Republican]  \n",
       "12                           [Democratic, Republican]  \n",
       "13                                       [Democratic]  \n",
       "14                           [Democratic, Republican]  "
      ]
     },
     "execution_count": 2,
     "metadata": {},
     "output_type": "execute_result"
    }
   ],
   "source": [
    "combined = pandas.read_csv('data/executive_orders/combined.csv')\n",
    "\n",
    "# group by cluster and create a column of array of unique presidents and parties\n",
    "grouped = combined.groupby('cluster').agg({\n",
    "    'president': lambda x: list(set(x)),\n",
    "    'party': lambda x: list(set(x))\n",
    "}).reset_index()\n",
    "grouped"
   ]
  },
  {
   "cell_type": "markdown",
   "metadata": {},
   "source": [
    "## Build Tags"
   ]
  },
  {
   "cell_type": "code",
   "execution_count": null,
   "metadata": {},
   "outputs": [],
   "source": [
    "gemini = ChatGoogleGenerativeAI(\n",
    "    model=\"gemini-2.0-flash\",\n",
    "    temperature=0.1,\n",
    "    max_retries=3\n",
    ")\n",
    "\n",
    "class Tags(BaseModel):\n",
    "    analysis: str = Field(description='Analysis of the texts.')\n",
    "    tags: List[str] = Field(description='Tags assigned to the cluster..')\n",
    "    title: str = Field(description='Title of the cluster.')\n",
    "\n",
    "def build_tags_pipeline(model, n_texts: int):\n",
    "    prompt = [\n",
    "        'Your task is to understand why the given documents were assigned to the same cluster of documents of the same type.',\n",
    "        '- First analyze the texts for common themes, topics, and sentiment.',\n",
    "        '- Then assign tags that would be unique to this cluster based on your analysis.',\n",
    "        '- Finally give the cluster a concise title based on the analysis and derived tags to distinguish it from the other clusters.',\n",
    "        '- Do not use tags or titles that describe the document type, such as \"Executive Order\" or \"Presidential Orders\".',\n",
    "        '- Avoid generic phrases like \"Governmental Policies\" or \"Governmental Regulations\", instead describe what is in common across all documents.'\n",
    "    ]\n",
    "    for i in range(n_texts):\n",
    "        prompt.extend([\n",
    "            f'# Document {i+1}',\n",
    "            f'{{document_{i}}}',\n",
    "        ])\n",
    "\n",
    "    return ChatPromptTemplate.from_template(\n",
    "        '\\n'.join(prompt)\n",
    "    ) | model.with_structured_output(Tags, include_raw=True)\n",
    "\n",
    "def sample_in_cluster(cluster: int, n_texts: int):\n",
    "    paths = combined[combined['cluster'] == cluster]['path'].sample(n_texts)\n",
    "\n",
    "    documents = []\n",
    "    for p in paths:\n",
    "        with open('data/executive_orders/raw/' + p) as f:\n",
    "            eo = json.load(f)\n",
    "            documents.append('\\n'.join(eo[\"content\"]))\n",
    "\n",
    "    return documents"
   ]
  },
  {
   "cell_type": "code",
   "execution_count": 50,
   "metadata": {},
   "outputs": [
    {
     "name": "stdout",
     "output_type": "stream",
     "text": [
      "0: Promoting Competition, Security, and Innovation\n",
      "1: Government Land Control and Economic Measures\n",
      "2: Federal Personnel and Homeland Security Organization\n",
      "3: Immigration, Border Security, and Visa Policies\n",
      "4: National Resource Management and Security Directives\n",
      "5: Governmental Authority and Resource Allocation for Public Works\n",
      "6: Governmental Regulations on Personnel, Properties, and International Affairs\n",
      "7: National Emergency Measures and Government Preparedness\n",
      "8: Governmental Regulations on Land, Labor, Family, and Maritime Affairs\n",
      "9: AI, International Security, Military Service, and Water Management\n",
      "10: Advancing Public Health, Education, and Economic Equity\n",
      "11: Governmental Regulations on Public Health, Economic Sanctions, and Infrastructure\n",
      "12: Governmental Directives on Employment, Security, and Conduct\n",
      "13: Federal Employee Policies and Hispanic Community Initiatives\n",
      "14: Presidential Actions on Infrastructure, Emergencies, Equity, and Labor\n"
     ]
    }
   ],
   "source": [
    "responses = []\n",
    "for i in range(15):\n",
    "    response = build_tags_pipeline(gemini, 4)\\\n",
    "        .invoke({f'document_{d_i}': d for d_i, d in enumerate(sample_in_cluster(2, 4))})\n",
    "    responses.append(response)\n",
    "\n",
    "    print(f'{str(i)}: {response['parsed'].title}')"
   ]
  },
  {
   "cell_type": "code",
   "execution_count": 51,
   "metadata": {},
   "outputs": [
    {
     "name": "stdout",
     "output_type": "stream",
     "text": [
      "0: Updates to Military Courts-Martial Procedures\n",
      "1: Emergency Response and Executive Action\n",
      "2: Land Management, Property Rights, and Infrastructure Initiatives\n",
      "3: Protecting National Security, Promoting Human Rights, and Regulating Military Service\n",
      "4: Government Ethics and Labor Dispute Resolution\n",
      "5: Securing National Interests: Resource Allocation, Supply Chains, and Investment Oversight\n",
      "6: LGBTQI+ Rights, Peace Corps, North Korea Sanctions, and Energy Infrastructure\n",
      "7: Amendments to Military, Health, and Civilian Regulations\n",
      "8: Federal Directives on Safety, Health, and Global Security\n",
      "9: Governmental Regulations and Industry Oversight\n",
      "10: Governmental Regulations and Policy Implementation\n",
      "11: Land Transfer, Security, Arctic, and Wage Policies\n",
      "12: Governmental Frameworks for National Security, Resource Management, and Public Health\n",
      "13: Federal Agency Authority on Environment, Military Pay, Trade, and Aid\n",
      "14: Federal Authority and Policy Directives\n"
     ]
    }
   ],
   "source": [
    "responses = []\n",
    "for i in range(15):\n",
    "    response = build_tags_pipeline(gemini, 4)\\\n",
    "        .invoke({f'document_{d_i}': d for d_i, d in enumerate(sample_in_cluster(2, 4))})\n",
    "    responses.append(response)\n",
    "\n",
    "    print(f'{str(i)}: {response['parsed'].title}')"
   ]
  },
  {
   "cell_type": "code",
   "execution_count": 52,
   "metadata": {},
   "outputs": [
    {
     "name": "stdout",
     "output_type": "stream",
     "text": [
      "0: Papago Reservation, Seafood Regulations, Cultural Exchange, and Visa Fees\n",
      "1: Presidential Delegations of Authority\n",
      "2: Government Employee Travel, Climate Resilience, and Cybersecurity Policies\n",
      "3: Governmental Authority and Regulatory Procedures\n",
      "4: Safeguarding National Security: Data, Emergencies, Cyber Threats, and Atrocity Prevention\n",
      "5: Sector-Specific Governmental Regulations and Policy Implementation\n",
      "6: Regulatory Amendments: Civil Service, North Korea, and Selective Service\n",
      "7: Governmental Actions on Child Welfare, Land Management, Property Rights, and Science Recognition\n",
      "8: Federal Directives on Land, Justice, Equality, and Resources\n",
      "9: Native American Education, Federal Background Checks, Military Service & Alaska Railroad Labor Regulations\n",
      "10: Governmental Regulations on Health, Military Conduct, Land Management, and Federal Salaries\n",
      "11: Presidential Directives on National Issues\n",
      "12: AI Advancement, Employee Leave, Non-Discrimination, and Order Revocation\n",
      "13: Environmental Protection and Public Health Management\n",
      "14: Military Relocation, Trade Representation, Litigation Efficiency, and Hispanic/Latino Educational & Economic Advancement\n"
     ]
    }
   ],
   "source": [
    "responses = []\n",
    "for i in range(15):\n",
    "    response = build_tags_pipeline(gemini, 4)\\\n",
    "        .invoke({f'document_{d_i}': d for d_i, d in enumerate(sample_in_cluster(2, 4))})\n",
    "    responses.append(response)\n",
    "\n",
    "    print(f'{str(i)}: {response['parsed'].title}')"
   ]
  },
  {
   "cell_type": "code",
   "execution_count": 53,
   "metadata": {},
   "outputs": [
    {
     "name": "stdout",
     "output_type": "stream",
     "text": [
      "0: Governmental Regulations: Passports, Ecosystems, Military Service, and West Bank Security\n",
      "1: Presidential Directives on Policy and Administration\n",
      "2: Governmental Orders on Land, Healthcare, Security, and Military Service\n",
      "3: WMD Control, Wartime Food Supply, Labor Standards, and Employee Leave\n",
      "4: Combating Societal Issues and Promoting Equity through Governmental Action\n",
      "5: Regulations on Exports, Water Quality, Exhibitions, and Alaskan Land Use\n",
      "6: Infrastructure, Mental Health, Wartime Production, and Voting Rights Initiatives\n",
      "7: Governmental Actions on Military, Social, Economic, and Environmental Issues\n",
      "8: Governmental Actions: Amendments, Labor, Public Health, and Land Use\n",
      "9: Detention Review, Land Withdrawal, Healthcare & Military Service Regulations\n",
      "10: Land Management and Territorial Control\n",
      "11: Governmental Regulations on Education, Military Justice, International Relations, and Civil Service\n",
      "12: Executive Actions Addressing National Concerns\n",
      "13: Military Justice, Employee Benefits, Economic Controls, and Energy Efficiency\n",
      "14: Diplomatic Finances, Export Restrictions, Military Service, and Wildlife Protection\n"
     ]
    }
   ],
   "source": [
    "responses = []\n",
    "for i in range(15):\n",
    "    response = build_tags_pipeline(gemini, 4)\\\n",
    "        .invoke({f'document_{d_i}': d for d_i, d in enumerate(sample_in_cluster(2, 4))})\n",
    "    responses.append(response)\n",
    "\n",
    "    print(f'{str(i)}: {response['parsed'].title}')"
   ]
  },
  {
   "cell_type": "code",
   "execution_count": null,
   "metadata": {},
   "outputs": [],
   "source": []
  }
 ],
 "metadata": {
  "kernelspec": {
   "display_name": "Python 3 (ipykernel)",
   "language": "python",
   "name": "python3"
  },
  "language_info": {
   "codemirror_mode": {
    "name": "ipython",
    "version": 3
   },
   "file_extension": ".py",
   "mimetype": "text/x-python",
   "name": "python",
   "nbconvert_exporter": "python",
   "pygments_lexer": "ipython3",
   "version": "3.13.0"
  }
 },
 "nbformat": 4,
 "nbformat_minor": 2
}
