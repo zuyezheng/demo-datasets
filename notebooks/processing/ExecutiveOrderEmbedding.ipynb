{
 "cells": [
  {
   "cell_type": "markdown",
   "metadata": {},
   "source": [
    "# Executive Order Embeddings"
   ]
  },
  {
   "cell_type": "code",
   "execution_count": 1,
   "metadata": {},
   "outputs": [],
   "source": [
    "%run notebooks/Setup.ipynb\n",
    "\n",
    "import pandas\n",
    "import numpy\n",
    "import re\n",
    "import json\n",
    "from sentence_transformers import SentenceTransformer\n",
    "import os\n",
    "import pandas\n",
    "from concurrent.futures import ThreadPoolExecutor\n",
    "import queue"
   ]
  },
  {
   "cell_type": "code",
   "execution_count": null,
   "metadata": {},
   "outputs": [
    {
     "data": {
      "application/vnd.jupyter.widget-view+json": {
       "model_id": "50dd0908abf24fffac7750c0825e2d78",
       "version_major": 2,
       "version_minor": 0
      },
      "text/plain": [
       "Loading checkpoint shards:   0%|          | 0/3 [00:00<?, ?it/s]"
      ]
     },
     "metadata": {},
     "output_type": "display_data"
    },
    {
     "data": {
      "application/vnd.jupyter.widget-view+json": {
       "model_id": "e9e1c57896064412a7fd9f0f7991192a",
       "version_major": 2,
       "version_minor": 0
      },
      "text/plain": [
       "Loading checkpoint shards:   0%|          | 0/3 [00:00<?, ?it/s]"
      ]
     },
     "metadata": {},
     "output_type": "display_data"
    }
   ],
   "source": [
    "num_gpus = 2\n",
    "models = [\n",
    "    [i, SentenceTransformer(\"Salesforce/SFR-Embedding-2_R\", device=f'cuda:{i}')] for i in range(num_gpus)\n",
    "]\n"
   ]
  },
  {
   "cell_type": "code",
   "execution_count": 4,
   "metadata": {},
   "outputs": [],
   "source": [
    "eo_dir = 'data/executive_orders/raw/'\n",
    "eo_paths = os.listdir(eo_dir)\n",
    "\n",
    "def batched(list_in, batch_size):\n",
    "    return [list_in[i * batch_size:(i + 1) * batch_size] for i in range((len(list_in) + batch_size - 1) // batch_size )]\n",
    "\n",
    "eo_paths_batches = batched(eo_paths, 10)"
   ]
  },
  {
   "cell_type": "code",
   "execution_count": 5,
   "metadata": {},
   "outputs": [],
   "source": [
    "if not os.path.exists('data/executive_orders/embeddings'):\n",
    "    os.makedirs('data/executive_orders/embeddings')\n",
    "\n",
    "def embed_batch(batch_i, batch, model):\n",
    "    eos = []\n",
    "    for path in batch:\n",
    "        with open(eo_dir + path, 'r') as f:\n",
    "            eo_doc = json.load(f)\n",
    "        eos.append('\\n'.join(eo_doc['content']))\n",
    "\n",
    "    embeddings = model.encode(list(map(lambda x: str(x), eos)))\n",
    "\n",
    "    df = pandas.DataFrame(embeddings)\n",
    "    df.insert(0, 'file', batch)\n",
    "    df.to_csv(f'data/executive_orders/embeddings/batch_{batch_i}.csv')"
   ]
  },
  {
   "cell_type": "code",
   "execution_count": null,
   "metadata": {},
   "outputs": [],
   "source": [
    "model_pool = queue.Queue()\n",
    "for model in models:\n",
    "    model_pool.put(model)\n",
    "\n",
    "def process_batch(i, batch):\n",
    "    # block until a model becomes available\n",
    "    model = model_pool.get()\n",
    "    try:\n",
    "        embed_batch(i, batch, model[1])\n",
    "        print(f\"Embedded batch {i} with model {model[0]}\")\n",
    "    finally:\n",
    "        model_pool.put(model)\n",
    "\n",
    "with ThreadPoolExecutor(max_workers=len(models)) as executor:\n",
    "    for i, batch in enumerate(eo_paths_batches):\n",
    "        executor.submit(process_batch, i, batch)"
   ]
  },
  {
   "cell_type": "code",
   "execution_count": 10,
   "metadata": {},
   "outputs": [
    {
     "name": "stdout",
     "output_type": "stream",
     "text": [
      "CPU times: user 31.2 s, sys: 4.79 s, total: 36 s\n",
      "Wall time: 36.2 s\n"
     ]
    }
   ],
   "source": [
    "%%time\n",
    "\n",
    "embed_batch(10, eo_paths_batches[1], models[0][1])"
   ]
  },
  {
   "cell_type": "code",
   "execution_count": 11,
   "metadata": {},
   "outputs": [
    {
     "name": "stdout",
     "output_type": "stream",
     "text": [
      "CPU times: user 5.42 s, sys: 1.15 s, total: 6.56 s\n",
      "Wall time: 6.54 s\n"
     ]
    }
   ],
   "source": [
    "%%time\n",
    "\n",
    "embed_batch(10, eo_paths_batches[10], models[0][1])"
   ]
  },
  {
   "cell_type": "code",
   "execution_count": null,
   "metadata": {},
   "outputs": [],
   "source": []
  }
 ],
 "metadata": {
  "kernelspec": {
   "display_name": "Python 3 (ipykernel)",
   "language": "python",
   "name": "python3"
  },
  "language_info": {
   "codemirror_mode": {
    "name": "ipython",
    "version": 3
   },
   "file_extension": ".py",
   "mimetype": "text/x-python",
   "name": "python",
   "nbconvert_exporter": "python",
   "pygments_lexer": "ipython3",
   "version": "3.12.3"
  }
 },
 "nbformat": 4,
 "nbformat_minor": 2
}
